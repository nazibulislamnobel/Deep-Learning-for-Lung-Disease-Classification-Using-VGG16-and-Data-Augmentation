{
  "cells": [
    {
      "cell_type": "code",
      "execution_count": null,
      "metadata": {
        "id": "7e5xjiTdIUmQ"
      },
      "outputs": [],
      "source": [
        "pip install pydicom"
      ]
    },
    {
      "cell_type": "code",
      "execution_count": 2,
      "metadata": {
        "id": "s_29G77hIYOb"
      },
      "outputs": [],
      "source": [
        "import numpy as np\n",
        "import pydicom\n",
        "import os\n",
        "import cv2\n",
        "from sklearn.model_selection import train_test_split\n",
        "from keras.applications.vgg16 import VGG16\n",
        "from keras.models import Sequential\n",
        "from keras.layers import Flatten, Dense, Dropout\n",
        "from keras.optimizers import Adam\n",
        "from tensorflow.keras.preprocessing.image import ImageDataGenerator\n",
        "import matplotlib.pyplot as plt\n",
        "from tensorflow.keras.models import Sequential\n",
        "from tensorflow.keras.layers import Conv2D, MaxPooling2D, Flatten, Dense, Dropout\n",
        "from tensorflow.keras.applications import VGG16\n",
        "from tensorflow.keras.optimizers import Adam\n",
        "from tensorflow.keras.layers import Flatten, Dense, Dropout\n",
        "from tensorflow.keras.models import Model"
      ]
    },
    {
      "cell_type": "code",
      "execution_count": null,
      "metadata": {
        "id": "rBAoQ8EeIeVy"
      },
      "outputs": [],
      "source": [
        "def load_dicom_data(root_folder):\n",
        "    dicom_data = []\n",
        "\n",
        "    for root, _, files in os.walk(root_folder):\n",
        "        for file in files:\n",
        "            if file.endswith(\".dcm\"):\n",
        "                file_path = os.path.join(root, file)\n",
        "                dicom = pydicom.dcmread(file_path)\n",
        "                dicom_array = dicom.pixel_array\n",
        "\n",
        "                if len(dicom_data) == 0 or dicom_array.shape == dicom_data[0].shape:\n",
        "                    dicom_data.append(dicom_array)\n",
        "                else:\n",
        "                    print(f\"Ignoring file {file} due to mismatched dimensions.\")\n",
        "\n",
        "    return np.array(dicom_data)\n",
        "\n",
        "data_folder = '/content/drive/MyDrive/Data'\n",
        "dicom_data = load_dicom_data(data_folder)\n",
        "\n",
        "print(f\"Loaded {len(dicom_data)} DICOM files.\")"
      ]
    },
    {
      "cell_type": "code",
      "execution_count": 4,
      "metadata": {
        "id": "33gZyLf-Ir6u"
      },
      "outputs": [],
      "source": [
        "labels = np.random.randint(2, size=len(dicom_data))\n",
        "X = dicom_data[:, :, :, np.newaxis]\n",
        "y = labels\n",
        "X_train, X_test, y_train, y_test = train_test_split(X, y, test_size=0.2, random_state=42)"
      ]
    },
    {
      "cell_type": "code",
      "execution_count": 5,
      "metadata": {
        "id": "Xblt2O1cI0ng"
      },
      "outputs": [],
      "source": [
        "target_resolution = (224, 224)\n",
        "X_train_rgb = np.repeat(X_train, 3, axis=-1)\n",
        "X_test_rgb = np.repeat(X_test, 3, axis=-1)\n",
        "X_train_resized = np.array([cv2.resize(img, target_resolution) for img in X_train_rgb])\n",
        "X_test_resized = np.array([cv2.resize(img, target_resolution) for img in X_test_rgb])"
      ]
    },
    {
      "cell_type": "code",
      "execution_count": 7,
      "metadata": {
        "id": "VNLBE1aBI4Io"
      },
      "outputs": [],
      "source": [
        "base_model = VGG16(weights='imagenet', include_top=False, input_shape=target_resolution + (3,))\n",
        "\n",
        "model = Sequential([\n",
        "    base_model,\n",
        "    Flatten(),\n",
        "    Dense(256, activation='relu'),\n",
        "    Dropout(0.5),\n",
        "    Dense(1, activation='sigmoid')\n",
        "])"
      ]
    },
    {
      "cell_type": "code",
      "execution_count": 10,
      "metadata": {
        "id": "Uy1S42hkJBLZ"
      },
      "outputs": [],
      "source": [
        "model.compile(optimizer=Adam(learning_rate=0.0001),\n",
        "              loss='binary_crossentropy',\n",
        "              metrics=['accuracy'])"
      ]
    },
    {
      "cell_type": "code",
      "execution_count": 12,
      "metadata": {
        "id": "qp004qjMJD8a"
      },
      "outputs": [],
      "source": [
        "batch_size = 8\n",
        "\n",
        "train_datagen = ImageDataGenerator(\n",
        "    rescale=1.0 / 255,\n",
        "    rotation_range=20,\n",
        "    width_shift_range=0.2,\n",
        "    height_shift_range=0.2,\n",
        "    horizontal_flip=True,\n",
        "    vertical_flip=True,\n",
        "    fill_mode='nearest')"
      ]
    },
    {
      "cell_type": "code",
      "execution_count": null,
      "metadata": {
        "id": "EZRSWDiCJSwM"
      },
      "outputs": [],
      "source": [
        "train_generator = train_datagen.flow(X_train_resized, y_train, batch_size=batch_size)\n",
        "\n",
        "history = model.fit(\n",
        "    train_generator,\n",
        "    steps_per_epoch=len(X_train_resized) // batch_size,\n",
        "    epochs=20,\n",
        "    validation_data=(X_test_resized, y_test))"
      ]
    },
    {
      "cell_type": "code",
      "execution_count": null,
      "metadata": {
        "id": "kirXBdWUJ6_c"
      },
      "outputs": [],
      "source": [
        "plt.figure(figsize=(12, 4))\n",
        "\n",
        "plt.subplot(1, 2, 1)\n",
        "plt.plot(history.history['accuracy'], label='Training Accuracy')\n",
        "plt.plot(history.history['val_accuracy'], label='Validation Accuracy')\n",
        "plt.xlabel('Epoch')\n",
        "plt.ylabel('Accuracy')\n",
        "plt.legend()\n",
        "\n",
        "plt.subplot(1, 2, 2)\n",
        "plt.plot(history.history['loss'], label='Training Loss')\n",
        "plt.plot(history.history['val_loss'], label='Validation Loss')\n",
        "plt.xlabel('Epoch')\n",
        "plt.ylabel('Loss')\n",
        "plt.legend()\n",
        "\n",
        "plt.tight_layout()\n",
        "plt.show()"
      ]
    }
  ],
  "metadata": {
    "colab": {
      "provenance": []
    },
    "kernelspec": {
      "display_name": "Python 3",
      "name": "python3"
    },
    "language_info": {
      "name": "python"
    }
  },
  "nbformat": 4,
  "nbformat_minor": 0
}
